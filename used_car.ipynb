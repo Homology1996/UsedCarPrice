{
 "cells": [
  {
   "cell_type": "code",
   "execution_count": 1,
   "metadata": {},
   "outputs": [],
   "source": [
    "%matplotlib widget\n",
    "import numpy as np\n",
    "import pandas as pd\n",
    "import matplotlib.pyplot as plt\n",
    "from mpl_toolkits import mplot3d                                  #3D繪圖\n",
    "from matplotlib.colors import ListedColormap                      #建立colormap，指定每個cluster要塗甚麼顏色\n",
    "from sklearn.preprocessing import StandardScaler                  #把資料做標準化\n",
    "from sklearn.model_selection import train_test_split              #用來把原始樣本拆成訓練資料與測試資料\n",
    "from sklearn.metrics.pairwise import pairwise_distances_argmin    #找出距離最接近的資料的index\n",
    "\n",
    "################################################################################################################################\n",
    "#以下定義一些圖示化模型時所需的方法\n",
    "################################################################################################################################\n",
    "\n",
    "#此方法是假設第0類的資料中，距離其他類資料中心最遠的那一個資料\n",
    "#也就是與其他資料中心的距離和為最大者，會被正確判斷\n",
    "#然後我們把該資料與第0個資料互換位置\n",
    "def Data_rearrangement_farthest(X,y,n_clusters):\n",
    "    n_samples=len(list(X))\n",
    "    n_features=len(list(X[0]))\n",
    "    #初始化資料\n",
    "    A=[]\n",
    "    b=[]\n",
    "    #A=X[0],b=y[0]\n",
    "    #如果直接這樣設定，那麼後面指定X[0]=X[index]的時候，A的值也會跟著改變\n",
    "    #所以這裡就把A裡面要儲存的數值換成是str，也就類似變成了不會改變的常數\n",
    "    for column in range(n_features):\n",
    "        A=A+[str(X[0,column])]\n",
    "    b=b+[str(y[0])]\n",
    "    #############################################################################\n",
    "    #找出各類資料的中心(平均)(第0類除外)\n",
    "    Xmean=np.array(X[0,:]).reshape(1,-1)  #資料初始化，而且資料形狀要調整\n",
    "    for cluster in range(1,n_clusters):   #第0類資料不用算進去\n",
    "        mean=X[0,:]                       #資料初始化\n",
    "        for column in range(n_features):\n",
    "            mean[column]=np.array(X[:,column][y==cluster]).mean()\n",
    "        mean=np.array(mean).reshape(1,-1) #調整資料形狀\n",
    "        Xmean=np.concatenate((Xmean,mean),axis=0)\n",
    "    Xmean=np.array(Xmean[1:])             #第0列不要\n",
    "    #############################################################################\n",
    "    #找出第0類的每個資料與各資料中心的距離和\n",
    "    Distance=[0 for index in range(n_samples)]\n",
    "    for index in range(n_samples):\n",
    "        if(y[index]==0):                         #只需要找第0類資料與其他中心的距離和\n",
    "            Sum=0\n",
    "            for cluster in range(1,n_clusters):  #其他的分類中心\n",
    "                distance=0\n",
    "                for column in range(n_features):\n",
    "                    distance=distance+(X[index,column]-Xmean[cluster-1,column])**2\n",
    "                Sum=Sum+np.sqrt(distance)\n",
    "            Distance[index]=Sum\n",
    "    Distance=np.array(Distance)\n",
    "    #############################################################################\n",
    "    #找出距離和最大的資料其相對應的index\n",
    "    MAX=Distance.max()\n",
    "    INDEX=-1\n",
    "    for index in range(n_samples):\n",
    "        if(Distance[index]==MAX):\n",
    "            INDEX=index\n",
    "            break\n",
    "    #############################################################################\n",
    "    #交換資料(第0個與第INDEX個交換)\n",
    "    X[0]=X[INDEX]\n",
    "    y[0]=y[INDEX]\n",
    "    #把剛剛建立的常數資料轉換成浮點數資料，之後才能做計算\n",
    "    for column in range(n_features):\n",
    "        A[column]=float(A[column])\n",
    "    b[0]=float(b[0])\n",
    "    X[INDEX]=A                          #交換資料數值\n",
    "    y[INDEX]=b[0]                       #交換資料數值\n",
    "    return X,y,INDEX\n",
    "################################################################################################################################\n",
    "#此方法是假設第0類的資料中心會被正確判斷\n",
    "#然後我們把該資料與第0個資料互換位置\n",
    "def Data_rearrangement(X,y):\n",
    "    n_features=len(list(X[0]))\n",
    "    #初始化資料\n",
    "    X0=X[y==0]\n",
    "    X0center=[]\n",
    "    A=[]\n",
    "    b=[]\n",
    "    #A=X[0],b=y[0]\n",
    "    #如果直接這樣設定，那麼後面指定X[0]=X[index]的時候，A的值也會跟著改變\n",
    "    #所以這裡就把A裡面要儲存的數值換成是str，也就類似變成了不會改變的常數\n",
    "    for column in range(n_features):\n",
    "        A=A+[str(X[0,column])]\n",
    "    b=b+[str(y[0])]\n",
    "    #找出第0類資料的中心(平均)\n",
    "    for column in range(n_features):\n",
    "        X0center=X0center+[np.array(X[:,column][y==0]).mean()]\n",
    "    X0center=np.array(X0center).reshape(1,-1)      #重新調整形狀\n",
    "    number=pairwise_distances_argmin(X0center,X0)  #這裡回傳的number是X[y==0]的index，並不是在原本X裡面的index\n",
    "    index=pairwise_distances_argmin(X0[number],X)  #找出最接近中心的資料位置\n",
    "    X[0]=X[index]                                  #改變資料數值\n",
    "    y[0]=y[index]                                  #改變資料數值\n",
    "    #把剛剛建立的常數資料轉換成浮點數資料，之後才能做計算\n",
    "    for column in range(n_features):\n",
    "        A[column]=float(A[column])\n",
    "    b[0]=float(b[0])\n",
    "    X[index]=A                                     #改變資料數值\n",
    "    y[index]=b                                     #改變資料數值\n",
    "    return X,y\n",
    "################################################################################################################################\n",
    "#這個函數會把分類標籤以遞增順序重新整理，而且相同的分類就會對應到相同的數字\n",
    "#此方法是建立在第0個資料有正確判斷\n",
    "#如果第0個資料是判斷錯誤的，那麼此方法也會跟著出錯\n",
    "def Label_redesignation(y):\n",
    "    n_samples=len(list(y))\n",
    "    n_clusters=np.array(y).max()+1\n",
    "    Y=[None for index in range(n_samples)]\n",
    "    ##############################################\n",
    "    #找出分類標準=0\n",
    "    Y[0]=0 #第0個資料的分類數字定義為0\n",
    "    for index in range(1,n_samples):\n",
    "        if(y[index]==y[0]):\n",
    "            Y[index]=0\n",
    "    ##############################################\n",
    "    #找出其他分類標準\n",
    "    global Index                                 #宣告Index為全域變數\n",
    "    used_label=[y[0]]                            #紀錄已使用過的label\n",
    "    for label in range(1,n_clusters):            #0號分類已使用過\n",
    "        for INDEX in range(1,n_samples):         #開頭的資料已使用過\n",
    "            Index=-1                             #初始化Index\n",
    "            if(y[INDEX] not in used_label):      #檢查y[index]是否為已使用過的label\n",
    "                Index=INDEX                      #記錄當下的index\n",
    "                used_label=used_label+[y[Index]] #記錄當下的實際label\n",
    "                break\n",
    "        for index in range(Index,n_samples):\n",
    "            if(y[index]==y[Index]):\n",
    "                Y[index]=label\n",
    "    return np.array(Y)\n",
    "################################################################################################################################\n",
    "def Difference_coloring(Y,Y_predict,color_same,color_different):\n",
    "    n_samples=len(list(Y))\n",
    "    color_list=[]\n",
    "    for index in range(n_samples):\n",
    "        if((Y-Y_predict)[index]==0):\n",
    "            color_list=color_list+[color_same]\n",
    "        else:\n",
    "            color_list=color_list+[color_different]\n",
    "    return color_list\n",
    "################################################################################################################################\n",
    "def Accuracy(Y,Y_predict):\n",
    "    n_samples=len(list(Y))\n",
    "    difference=Y-Y_predict\n",
    "    Fault=0\n",
    "    for index in range(n_samples):\n",
    "        if(difference[index]!=0):\n",
    "            Fault=Fault+1\n",
    "    accuracy=(n_samples-Fault)/n_samples\n",
    "    return Fault,accuracy\n",
    "################################################################################################################################\n",
    "def Mislabel_searching(X,Y,Y_predict):\n",
    "    n_samples=len(list(Y))\n",
    "    difference=Y-Y_predict\n",
    "    L=[]\n",
    "    for index in range(n_samples):\n",
    "        if(difference[index]!=0):\n",
    "            L=L+[index]\n",
    "    Mislabel=[[None for column in range(len(list(X[0])))] for row in range(len(L))]\n",
    "    for row in range(len(L)):\n",
    "        for column in range(len(list(X[0]))):\n",
    "            Mislabel[row][column]=X[L[row],column]\n",
    "    Mislabel=np.array(Mislabel)\n",
    "    return Mislabel,L"
   ]
  },
  {
   "cell_type": "code",
   "execution_count": 2,
   "metadata": {},
   "outputs": [
    {
     "data": {
      "text/plain": [
       "(60109, 12)"
      ]
     },
     "execution_count": 2,
     "metadata": {},
     "output_type": "execute_result"
    }
   ],
   "source": [
    "dataframe=pd.read_csv(\"used_car.csv\")\n",
    "df_raw=dataframe.copy()\n",
    "df_raw.shape\n",
    "#第一行:index\n",
    "#第二行:brand。有71個廠牌\n",
    "#第三行:currency。全都是PKR\n",
    "#第四行:description。描述\n",
    "#第五行:fuel_type。有6種\n",
    "#第六行:item_condition。全都是used\n",
    "#第七行:manufacturer。與廠牌相同\n",
    "#第八行:mileage_from_odometer。里程數\n",
    "#第九行:model_date。出產日期\n",
    "#第十行:price。價格\n",
    "#第十一行:vehicle_engine。排氣量\n",
    "#第十二行:vehicle_transmission。手排與自排"
   ]
  },
  {
   "cell_type": "code",
   "execution_count": 3,
   "metadata": {},
   "outputs": [],
   "source": [
    "#依據廠牌來拆分資料\n",
    "brand_name=[]\n",
    "df_individual={}\n",
    "for brand in df_raw.loc[:][\"brand\"]:\n",
    "    if(brand not in brand_name):\n",
    "        brand_name+=[brand]\n",
    "        df_individual[brand]=[]\n",
    "for index in range(df_raw.shape[0]):\n",
    "    df_individual[df_raw.loc[index][\"brand\"]]+=[df_raw.loc[index][:]]"
   ]
  },
  {
   "cell_type": "code",
   "execution_count": 4,
   "metadata": {},
   "outputs": [],
   "source": [
    "#這裡取Toyota出來\n",
    "Toyota=df_individual[\"Toyota\"]"
   ]
  },
  {
   "cell_type": "code",
   "execution_count": 5,
   "metadata": {},
   "outputs": [],
   "source": [
    "#把字串資料轉換成數值型態\n",
    "fuel_type_name=[]\n",
    "fuel_type_dict={}\n",
    "for fuel_type in df_raw.loc[:][\"fuel_type\"]:\n",
    "    if(fuel_type not in fuel_type_name):\n",
    "        fuel_type_name+=[fuel_type]\n",
    "for i in range(len(fuel_type_name)):\n",
    "    fuel_type_dict[fuel_type_name[i]]=i\n",
    "for j in range(len(Toyota)):\n",
    "    Toyota[j][\"fuel_type\"]=fuel_type_dict[Toyota[j][\"fuel_type\"]]\n",
    "#########################################################################################\n",
    "mileage_from_odometer_name=[]\n",
    "for index in range(len(Toyota)):\n",
    "    mileage_from_odometer_name+=[Toyota[index][\"mileage_from_odometer\"][:-3]]\n",
    "for index in range(len(Toyota)):\n",
    "    if(\",\" in mileage_from_odometer_name[index]):\n",
    "        arr=mileage_from_odometer_name[index].split(\",\")\n",
    "        result=\"\"\n",
    "        for char in arr:\n",
    "            result+=char\n",
    "        Toyota[index][\"mileage_from_odometer\"]=int(result)\n",
    "    else:\n",
    "        Toyota[index][\"mileage_from_odometer\"]=int(mileage_from_odometer_name[index])\n",
    "#########################################################################################\n",
    "for index in range(len(Toyota)):\n",
    "    Toyota[index][\"model_date\"]=int(Toyota[index][\"model_date\"])\n",
    "    Toyota[index][\"price\"]=int(Toyota[index][\"price\"])\n",
    "#########################################################################################\n",
    "vehicle_engine_name=[]\n",
    "for index in range(len(Toyota)):\n",
    "    num=Toyota[index][\"vehicle_engine\"][:-2]\n",
    "    if(len(num)==0):\n",
    "        Toyota[index][\"vehicle_engine\"]=0\n",
    "    else:\n",
    "        Toyota[index][\"vehicle_engine\"]=int(num)\n",
    "#########################################################################################\n",
    "vehicle_transmission_name=[]\n",
    "vehicle_transmission_dict={}\n",
    "for vehicle_transmission in df_raw.loc[:][\"vehicle_transmission\"]:\n",
    "    if(vehicle_transmission not in vehicle_transmission_name):\n",
    "        vehicle_transmission_name+=[vehicle_transmission]\n",
    "for i in range(len(vehicle_transmission_name)):\n",
    "    vehicle_transmission_dict[vehicle_transmission_name[i]]=i\n",
    "for j in range(len(Toyota)):\n",
    "    Toyota[j][\"vehicle_transmission\"]=vehicle_transmission_dict[Toyota[j][\"vehicle_transmission\"]]"
   ]
  },
  {
   "cell_type": "code",
   "execution_count": 6,
   "metadata": {},
   "outputs": [],
   "source": [
    "fuel_type_num=[]\n",
    "mileage_from_odometer_num=[]\n",
    "model_date_num=[]\n",
    "price_num=[]\n",
    "vehicle_engine_num=[]\n",
    "vehicle_transmission_num=[]\n",
    "for i in range(len(Toyota)):\n",
    "    fuel_type_num+=[Toyota[i][\"fuel_type\"]]\n",
    "    mileage_from_odometer_num+=[Toyota[i][\"mileage_from_odometer\"]]\n",
    "    model_date_num+=[Toyota[i][\"model_date\"]]\n",
    "    price_num+=[Toyota[i][\"price\"]]\n",
    "    vehicle_engine_num+=[Toyota[i][\"vehicle_engine\"]]\n",
    "    vehicle_transmission_num+=[Toyota[i][\"vehicle_transmission\"]]"
   ]
  },
  {
   "cell_type": "code",
   "execution_count": 7,
   "metadata": {},
   "outputs": [],
   "source": [
    "#此處使用迴歸分析來預測價格\n",
    "total=[]\n",
    "total+=[fuel_type_num]\n",
    "total+=[mileage_from_odometer_num]\n",
    "total+=[model_date_num]\n",
    "total+=[vehicle_engine_num]\n",
    "total+=[vehicle_transmission_num]\n",
    "#建立資料庫\n",
    "Xraw=np.array(total).T\n",
    "yraw=np.array(price_num)\n",
    "#從裡面隨機挑選一萬筆資料\n",
    "random_pick=np.random.randint(low=0,high=Xraw.shape[0],size=10000)\n",
    "X=Xraw[random_pick]\n",
    "y=yraw[random_pick]"
   ]
  },
  {
   "cell_type": "code",
   "execution_count": 8,
   "metadata": {},
   "outputs": [],
   "source": [
    "#把資料拆成訓練資料與測試資料\n",
    "X_train,X_test,y_train,y_test=train_test_split(X,y,test_size=0.2,random_state=0)\n",
    "#把資料標準化\n",
    "standard_scaler=StandardScaler()\n",
    "standard_scaler.fit(X_train)\n",
    "X_train_standardized=standard_scaler.transform(X_train)\n",
    "X_test_standardized=standard_scaler.transform(X_test)"
   ]
  },
  {
   "cell_type": "code",
   "execution_count": 109,
   "metadata": {},
   "outputs": [
    {
     "data": {
      "text/html": [
       "<div>\n",
       "<style scoped>\n",
       "    .dataframe tbody tr th:only-of-type {\n",
       "        vertical-align: middle;\n",
       "    }\n",
       "\n",
       "    .dataframe tbody tr th {\n",
       "        vertical-align: top;\n",
       "    }\n",
       "\n",
       "    .dataframe thead th {\n",
       "        text-align: right;\n",
       "    }\n",
       "</style>\n",
       "<table border=\"1\" class=\"dataframe\">\n",
       "  <thead>\n",
       "    <tr style=\"text-align: right;\">\n",
       "      <th></th>\n",
       "      <th>test score</th>\n",
       "      <th>train score</th>\n",
       "    </tr>\n",
       "  </thead>\n",
       "  <tbody>\n",
       "    <tr>\n",
       "      <th>GradientBoost</th>\n",
       "      <td>0.935593</td>\n",
       "      <td>0.934962</td>\n",
       "    </tr>\n",
       "    <tr>\n",
       "      <th>RandomForest</th>\n",
       "      <td>0.957175</td>\n",
       "      <td>0.985964</td>\n",
       "    </tr>\n",
       "  </tbody>\n",
       "</table>\n",
       "</div>"
      ],
      "text/plain": [
       "               test score  train score\n",
       "GradientBoost    0.935593     0.934962\n",
       "RandomForest     0.957175     0.985964"
      ]
     },
     "execution_count": 109,
     "metadata": {},
     "output_type": "execute_result"
    }
   ],
   "source": [
    "#使用random forest和gradient boosting\n",
    "from sklearn.ensemble import RandomForestRegressor,GradientBoostingRegressor\n",
    "Models={\n",
    "    \"RandomForest\":RandomForestRegressor(n_estimators=100,criterion=\"squared_error\"),\n",
    "    \"GradientBoost\":GradientBoostingRegressor(n_estimators=100,loss=\"squared_error\")\n",
    "}\n",
    "scores={}\n",
    "for name in Models:\n",
    "    Models[name].fit(X_train_standardized,y_train)\n",
    "    scores[(name,\"train score\")]=Models[name].score(X_train_standardized,y_train)\n",
    "    scores[(name,\"test score\")]=Models[name].score(X_test_standardized,y_test)\n",
    "pd.Series(scores).unstack()"
   ]
  },
  {
   "cell_type": "code",
   "execution_count": 113,
   "metadata": {},
   "outputs": [
    {
     "name": "stdout",
     "output_type": "stream",
     "text": [
      "Train score=0.9861862251457542\n",
      "Test score=0.9571142488292551\n"
     ]
    },
    {
     "data": {
      "application/vnd.jupyter.widget-view+json": {
       "model_id": "0ac00991590a44a7a7ef8ccb090d0253",
       "version_major": 2,
       "version_minor": 0
      },
      "image/png": "[encoded data removed]",
      "text/html": [
       "\n",
       "            <div style=\"display: inline-block;\">\n",
       "                <div class=\"jupyter-widgets widget-label\" style=\"text-align: center;\">\n",
       "                    Figure\n",
       "                </div>\n",
       "                <img src='data:image/png;base64,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' width=800.0/>\n",
       "            </div>\n",
       "        "
      ],
      "text/plain": [
       "Canvas(toolbar=Toolbar(toolitems=[('Home', 'Reset original view', 'home', 'home'), ('Back', 'Back to previous …"
      ]
     },
     "metadata": {},
     "output_type": "display_data"
    }
   ],
   "source": [
    "#取得變數重要度\n",
    "reg=RandomForestRegressor(n_estimators=100,criterion=\"squared_error\",max_features=1.0,max_samples=None,max_leaf_nodes=None,max_depth=None,\n",
    "                          min_samples_split=2,min_samples_leaf=1,min_weight_fraction_leaf=0.0,min_impurity_decrease=0.0,\n",
    "                          bootstrap=True,oob_score=False,n_jobs=None,random_state=None,warm_start=False,ccp_alpha=0.0)\n",
    "reg.fit(X_train_standardized,y_train)\n",
    "print(\"Train score={}\".format(reg.score(X_train_standardized,y_train)))\n",
    "print(\"Test score={}\".format(reg.score(X_test_standardized,y_test)))\n",
    "########################################################################################################################################################################\n",
    "x_value=[\"fuel_type\",\"mileage_from_odometer\",\"model_date\",\"vehicle_engine\",\"vehicle_transmission\"]\n",
    "y_value=reg.feature_importances_\n",
    "########################################################################################################################################################################\n",
    "fig,ax=plt.subplots(1,1,figsize=(8,8))\n",
    "ax.bar(range(len(x_value)),y_value)\n",
    "ax.set_xticks(range(len(x_value)),labels=x_value)\n",
    "plt.setp(ax.get_xticklabels(),rotation=20,ha=\"right\")\n",
    "for i in range(len(x_value)):\n",
    "    ax.text(x=i,y=y_value[i]+0.005,s=str(np.round(y_value[i],decimals=2)),ha=\"center\",c=\"yellow\")"
   ]
  },
  {
   "cell_type": "code",
   "execution_count": 114,
   "metadata": {},
   "outputs": [
    {
     "data": {
      "application/vnd.jupyter.widget-view+json": {
       "model_id": "c5b0229473b8416ba854a556bce74b92",
       "version_major": 2,
       "version_minor": 0
      },
      "text/plain": [
       "interactive(children=(IntSlider(value=999, description='n', max=1999), Output()), _dom_classes=('widget-intera…"
      ]
     },
     "metadata": {},
     "output_type": "display_data"
    },
    {
     "data": {
      "text/plain": [
       "<function __main__.show(n)>"
      ]
     },
     "execution_count": 114,
     "metadata": {},
     "output_type": "execute_result"
    }
   ],
   "source": [
    "#觀察預測結果\n",
    "from ipywidgets import interact\n",
    "def show(n):\n",
    "    reg=RandomForestRegressor(n_estimators=100,criterion=\"squared_error\",max_features=1.0,max_samples=None,max_leaf_nodes=None,max_depth=None,\n",
    "                              min_samples_split=2,min_samples_leaf=1,min_weight_fraction_leaf=0.0,min_impurity_decrease=0.0,\n",
    "                              bootstrap=True,oob_score=False,n_jobs=None,random_state=None,warm_start=False,ccp_alpha=0.0)\n",
    "    reg.fit(X_train_standardized,y_train)\n",
    "    print(\"The predicted price={}\".format(np.round(reg.predict(X_test_standardized[n:n+1]),decimals=0)))\n",
    "    print(\"The actual price={}\".format(y_test[n]))\n",
    "interact(show,n=(0,1999))"
   ]
  },
  {
   "cell_type": "code",
   "execution_count": null,
   "metadata": {},
   "outputs": [],
   "source": []
  }
 ],
 "metadata": {
  "kernelspec": {
   "display_name": "tensorflow-GPU",
   "language": "python",
   "name": "python3"
  },
  "language_info": {
   "codemirror_mode": {
    "name": "ipython",
    "version": 3
   },
   "file_extension": ".py",
   "mimetype": "text/x-python",
   "name": "python",
   "nbconvert_exporter": "python",
   "pygments_lexer": "ipython3",
   "version": "3.9.15"
  },
  "orig_nbformat": 4,
  "vscode": {
   "interpreter": {
    "hash": "695fa85542631c24597fc98187ccffdc47ac9c2111f5acc218e8370778c93602"
   }
  }
 },
 "nbformat": 4,
 "nbformat_minor": 2
}
